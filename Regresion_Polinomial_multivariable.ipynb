{
  "nbformat": 4,
  "nbformat_minor": 0,
  "metadata": {
    "colab": {
      "provenance": []
    },
    "kernelspec": {
      "name": "python3",
      "display_name": "Python 3"
    },
    "language_info": {
      "name": "python"
    }
  },
  "cells": [
    {
      "cell_type": "markdown",
      "source": [
        "#**Regresión polinomial multivariable**\n",
        "* Contacto: gabrieltehozol@gmail.com"
      ],
      "metadata": {
        "id": "H35vkRBFEQ7Q"
      }
    },
    {
      "cell_type": "markdown",
      "source": [
        "El siguiente código está escrito en Python y utiliza varias librerías para desarrollar un modelo de regresión polinomial con múltiples variables predictoras. El objetivo es mostrar cómo construir y evaluar un modelo de regresión polinomial. Se utilizará un conjunto de datos relacionado con la calidad del vino\n"
      ],
      "metadata": {
        "id": "UDlRNJe7EQqz"
      }
    },
    {
      "cell_type": "markdown",
      "source": [
        "En este notebook, vamos a trabajar con una serie de librerías para construir y evaluar un modelo de regresión polinomial. Utilizaremos [os](https://docs.python.org/3/library/os.html) para manejar comandos del sistema, [pandas](https://pandas.pydata.org/) para el manejo de datos, [PolynomialFeatures](https://scikit-learn.org/stable/modules/generated/sklearn.preprocessing.PolynomialFeatures.html) de [sklearn](https://scikit-learn.org/stable/index.html) para generar los parámetros polinomiales, [LinearRegression](https://scikit-learn.org/stable/modules/generated/sklearn.linear_model.LinearRegression.html) también de [sklearn](https://scikit-learn.org/stable/index.html) para ajustar el modelo lineal, y las métricas mean_squared_error, mean_absolute_error y r2_score también de sklearn para evaluar el rendimiento del modelo. Finalmente, utilizaremos [train_test_split](https://scikit-learn.org/stable/modules/generated/sklearn.model_selection.train_test_split.html) para separar nuestros datos en conjuntos de entrenamiento y prueba. A continuación, vamos a importar estas librerías para comenzar a trabajar con nuestros datos."
      ],
      "metadata": {
        "id": "24E0FpYaErYK"
      }
    },
    {
      "cell_type": "code",
      "execution_count": 1,
      "metadata": {
        "id": "dZDiyHfkDeGT"
      },
      "outputs": [],
      "source": [
        "#Librería para comando de sistema\n",
        "import os\n",
        "# Librerías para manejo de datos\n",
        "import pandas as pd\n",
        "# Librería para parámetros polinomiales\n",
        "from sklearn.preprocessing import PolynomialFeatures\n",
        "#Librería para ajustar modelos lineales\n",
        "from sklearn.linear_model import LinearRegression\n",
        "# Para determinar el rendimiento del modelo con las métricas MSE, MAE y R2\n",
        "from sklearn.metrics import mean_squared_error, mean_absolute_error, r2_score\n",
        "# Para realizar la separación del conjunto de aprendizaje en entrenamiento y test.\n",
        "from sklearn.model_selection import train_test_split\n",
        "# Para sacar un reporte estadístico que podemos usar para determinar las importancia de las variables explicativas.\n",
        "import statsmodels.api as sm\n"
      ]
    },
    {
      "cell_type": "markdown",
      "source": [
        "### 2. Carga de los datos\n"
      ],
      "metadata": {
        "id": "p27Sm7H7GYJp"
      }
    },
    {
      "cell_type": "code",
      "source": [
        "# Cargamos el archivo excel con los datos\n",
        "data = pd.read_csv('calidad_vino.csv')\n",
        "\n",
        "# Imprimimos la cantidad de datos y variables\n",
        "print(data.shape)\n",
        "\n",
        "# Mostramos los primeros 5 datos\n",
        "data.head()\n"
      ],
      "metadata": {
        "colab": {
          "base_uri": "https://localhost:8080/",
          "height": 287
        },
        "id": "_nx0YB1FGO0K",
        "outputId": "018f0559-9bf7-45ad-d60a-e2a7b621b695"
      },
      "execution_count": 5,
      "outputs": [
        {
          "output_type": "stream",
          "name": "stdout",
          "text": [
            "(1599, 12)\n"
          ]
        },
        {
          "output_type": "execute_result",
          "data": {
            "text/plain": [
              "   acidez_fija  acidez_volátil  acido_cítrico  azucar_residual  cloruros  \\\n",
              "0          7.4            0.70           0.00              1.9     0.076   \n",
              "1          7.8            0.88           0.00              2.6     0.098   \n",
              "2          7.8            0.76           0.04              2.3     0.092   \n",
              "3         11.2            0.28           0.56              1.9     0.075   \n",
              "4          7.4            0.70           0.00              1.9     0.076   \n",
              "\n",
              "   dioxido_azufre_libre  dioxido_azufre_total  densidad    pH  sulfatos  \\\n",
              "0                  11.0                  34.0    0.9978  3.51      0.56   \n",
              "1                  25.0                  67.0    0.9968  3.20      0.68   \n",
              "2                  15.0                  54.0    0.9970  3.26      0.65   \n",
              "3                  17.0                  60.0    0.9980  3.16      0.58   \n",
              "4                  11.0                  34.0    0.9978  3.51      0.56   \n",
              "\n",
              "   alcohol  calidad  \n",
              "0      9.4        5  \n",
              "1      9.8        5  \n",
              "2      9.8        5  \n",
              "3      9.8        6  \n",
              "4      9.4        5  "
            ],
            "text/html": [
              "\n",
              "  <div id=\"df-fe7162c4-f91a-4ff4-947b-427433424c22\">\n",
              "    <div class=\"colab-df-container\">\n",
              "      <div>\n",
              "<style scoped>\n",
              "    .dataframe tbody tr th:only-of-type {\n",
              "        vertical-align: middle;\n",
              "    }\n",
              "\n",
              "    .dataframe tbody tr th {\n",
              "        vertical-align: top;\n",
              "    }\n",
              "\n",
              "    .dataframe thead th {\n",
              "        text-align: right;\n",
              "    }\n",
              "</style>\n",
              "<table border=\"1\" class=\"dataframe\">\n",
              "  <thead>\n",
              "    <tr style=\"text-align: right;\">\n",
              "      <th></th>\n",
              "      <th>acidez_fija</th>\n",
              "      <th>acidez_volátil</th>\n",
              "      <th>acido_cítrico</th>\n",
              "      <th>azucar_residual</th>\n",
              "      <th>cloruros</th>\n",
              "      <th>dioxido_azufre_libre</th>\n",
              "      <th>dioxido_azufre_total</th>\n",
              "      <th>densidad</th>\n",
              "      <th>pH</th>\n",
              "      <th>sulfatos</th>\n",
              "      <th>alcohol</th>\n",
              "      <th>calidad</th>\n",
              "    </tr>\n",
              "  </thead>\n",
              "  <tbody>\n",
              "    <tr>\n",
              "      <th>0</th>\n",
              "      <td>7.4</td>\n",
              "      <td>0.70</td>\n",
              "      <td>0.00</td>\n",
              "      <td>1.9</td>\n",
              "      <td>0.076</td>\n",
              "      <td>11.0</td>\n",
              "      <td>34.0</td>\n",
              "      <td>0.9978</td>\n",
              "      <td>3.51</td>\n",
              "      <td>0.56</td>\n",
              "      <td>9.4</td>\n",
              "      <td>5</td>\n",
              "    </tr>\n",
              "    <tr>\n",
              "      <th>1</th>\n",
              "      <td>7.8</td>\n",
              "      <td>0.88</td>\n",
              "      <td>0.00</td>\n",
              "      <td>2.6</td>\n",
              "      <td>0.098</td>\n",
              "      <td>25.0</td>\n",
              "      <td>67.0</td>\n",
              "      <td>0.9968</td>\n",
              "      <td>3.20</td>\n",
              "      <td>0.68</td>\n",
              "      <td>9.8</td>\n",
              "      <td>5</td>\n",
              "    </tr>\n",
              "    <tr>\n",
              "      <th>2</th>\n",
              "      <td>7.8</td>\n",
              "      <td>0.76</td>\n",
              "      <td>0.04</td>\n",
              "      <td>2.3</td>\n",
              "      <td>0.092</td>\n",
              "      <td>15.0</td>\n",
              "      <td>54.0</td>\n",
              "      <td>0.9970</td>\n",
              "      <td>3.26</td>\n",
              "      <td>0.65</td>\n",
              "      <td>9.8</td>\n",
              "      <td>5</td>\n",
              "    </tr>\n",
              "    <tr>\n",
              "      <th>3</th>\n",
              "      <td>11.2</td>\n",
              "      <td>0.28</td>\n",
              "      <td>0.56</td>\n",
              "      <td>1.9</td>\n",
              "      <td>0.075</td>\n",
              "      <td>17.0</td>\n",
              "      <td>60.0</td>\n",
              "      <td>0.9980</td>\n",
              "      <td>3.16</td>\n",
              "      <td>0.58</td>\n",
              "      <td>9.8</td>\n",
              "      <td>6</td>\n",
              "    </tr>\n",
              "    <tr>\n",
              "      <th>4</th>\n",
              "      <td>7.4</td>\n",
              "      <td>0.70</td>\n",
              "      <td>0.00</td>\n",
              "      <td>1.9</td>\n",
              "      <td>0.076</td>\n",
              "      <td>11.0</td>\n",
              "      <td>34.0</td>\n",
              "      <td>0.9978</td>\n",
              "      <td>3.51</td>\n",
              "      <td>0.56</td>\n",
              "      <td>9.4</td>\n",
              "      <td>5</td>\n",
              "    </tr>\n",
              "  </tbody>\n",
              "</table>\n",
              "</div>\n",
              "      <button class=\"colab-df-convert\" onclick=\"convertToInteractive('df-fe7162c4-f91a-4ff4-947b-427433424c22')\"\n",
              "              title=\"Convert this dataframe to an interactive table.\"\n",
              "              style=\"display:none;\">\n",
              "        \n",
              "  <svg xmlns=\"http://www.w3.org/2000/svg\" height=\"24px\"viewBox=\"0 0 24 24\"\n",
              "       width=\"24px\">\n",
              "    <path d=\"M0 0h24v24H0V0z\" fill=\"none\"/>\n",
              "    <path d=\"M18.56 5.44l.94 2.06.94-2.06 2.06-.94-2.06-.94-.94-2.06-.94 2.06-2.06.94zm-11 1L8.5 8.5l.94-2.06 2.06-.94-2.06-.94L8.5 2.5l-.94 2.06-2.06.94zm10 10l.94 2.06.94-2.06 2.06-.94-2.06-.94-.94-2.06-.94 2.06-2.06.94z\"/><path d=\"M17.41 7.96l-1.37-1.37c-.4-.4-.92-.59-1.43-.59-.52 0-1.04.2-1.43.59L10.3 9.45l-7.72 7.72c-.78.78-.78 2.05 0 2.83L4 21.41c.39.39.9.59 1.41.59.51 0 1.02-.2 1.41-.59l7.78-7.78 2.81-2.81c.8-.78.8-2.07 0-2.86zM5.41 20L4 18.59l7.72-7.72 1.47 1.35L5.41 20z\"/>\n",
              "  </svg>\n",
              "      </button>\n",
              "      \n",
              "  <style>\n",
              "    .colab-df-container {\n",
              "      display:flex;\n",
              "      flex-wrap:wrap;\n",
              "      gap: 12px;\n",
              "    }\n",
              "\n",
              "    .colab-df-convert {\n",
              "      background-color: #E8F0FE;\n",
              "      border: none;\n",
              "      border-radius: 50%;\n",
              "      cursor: pointer;\n",
              "      display: none;\n",
              "      fill: #1967D2;\n",
              "      height: 32px;\n",
              "      padding: 0 0 0 0;\n",
              "      width: 32px;\n",
              "    }\n",
              "\n",
              "    .colab-df-convert:hover {\n",
              "      background-color: #E2EBFA;\n",
              "      box-shadow: 0px 1px 2px rgba(60, 64, 67, 0.3), 0px 1px 3px 1px rgba(60, 64, 67, 0.15);\n",
              "      fill: #174EA6;\n",
              "    }\n",
              "\n",
              "    [theme=dark] .colab-df-convert {\n",
              "      background-color: #3B4455;\n",
              "      fill: #D2E3FC;\n",
              "    }\n",
              "\n",
              "    [theme=dark] .colab-df-convert:hover {\n",
              "      background-color: #434B5C;\n",
              "      box-shadow: 0px 1px 3px 1px rgba(0, 0, 0, 0.15);\n",
              "      filter: drop-shadow(0px 1px 2px rgba(0, 0, 0, 0.3));\n",
              "      fill: #FFFFFF;\n",
              "    }\n",
              "  </style>\n",
              "\n",
              "      <script>\n",
              "        const buttonEl =\n",
              "          document.querySelector('#df-fe7162c4-f91a-4ff4-947b-427433424c22 button.colab-df-convert');\n",
              "        buttonEl.style.display =\n",
              "          google.colab.kernel.accessAllowed ? 'block' : 'none';\n",
              "\n",
              "        async function convertToInteractive(key) {\n",
              "          const element = document.querySelector('#df-fe7162c4-f91a-4ff4-947b-427433424c22');\n",
              "          const dataTable =\n",
              "            await google.colab.kernel.invokeFunction('convertToInteractive',\n",
              "                                                     [key], {});\n",
              "          if (!dataTable) return;\n",
              "\n",
              "          const docLinkHtml = 'Like what you see? Visit the ' +\n",
              "            '<a target=\"_blank\" href=https://colab.research.google.com/notebooks/data_table.ipynb>data table notebook</a>'\n",
              "            + ' to learn more about interactive tables.';\n",
              "          element.innerHTML = '';\n",
              "          dataTable['output_type'] = 'display_data';\n",
              "          await google.colab.output.renderOutput(dataTable, element);\n",
              "          const docLink = document.createElement('div');\n",
              "          docLink.innerHTML = docLinkHtml;\n",
              "          element.appendChild(docLink);\n",
              "        }\n",
              "      </script>\n",
              "    </div>\n",
              "  </div>\n",
              "  "
            ]
          },
          "metadata": {},
          "execution_count": 5
        }
      ]
    },
    {
      "cell_type": "markdown",
      "source": [
        "##**3. Preparación de los datos**\n",
        "* Se observa las características generales de los datos\n",
        "* Se realizan comprobaciones para asegurar que los datos no contienen errores como datos faltantes o duplicados.\n",
        "* Se eliminan los registros con ausencias y duplicados.\n",
        "* Se comprueba el tamaño del conjunto de datos después de estos pasos de limpieza.\n",
        "* Se preparan las variables para cumplir con los requerimientos de entrada de los algoritmos de aprendizaje.\n",
        "(No se especifica qué pasos adicionales se realizan en esta sección)"
      ],
      "metadata": {
        "id": "rQYbHg3lMXo4"
      }
    },
    {
      "cell_type": "code",
      "source": [
        "# Para ver las caracteríticas generales de los datos, \n",
        "# usamos la siguiente instrucción\n",
        "data.info()\n",
        "# Con esta instrucción podemos ver el nombre de nuestras columnas,\n",
        "# También se observa se tienen o no datos vacíos, \n",
        "# el número de filas y columnas, y el tipo de datos"
      ],
      "metadata": {
        "colab": {
          "base_uri": "https://localhost:8080/"
        },
        "id": "jL3_uqftgYpz",
        "outputId": "768b1de8-a377-4217-c62a-02b6798f9d0a"
      },
      "execution_count": 6,
      "outputs": [
        {
          "output_type": "stream",
          "name": "stdout",
          "text": [
            "<class 'pandas.core.frame.DataFrame'>\n",
            "RangeIndex: 1599 entries, 0 to 1598\n",
            "Data columns (total 12 columns):\n",
            " #   Column                Non-Null Count  Dtype  \n",
            "---  ------                --------------  -----  \n",
            " 0   acidez_fija           1599 non-null   float64\n",
            " 1   acidez_volátil        1599 non-null   float64\n",
            " 2   acido_cítrico         1599 non-null   float64\n",
            " 3   azucar_residual       1599 non-null   float64\n",
            " 4   cloruros              1599 non-null   float64\n",
            " 5   dioxido_azufre_libre  1599 non-null   float64\n",
            " 6   dioxido_azufre_total  1599 non-null   float64\n",
            " 7   densidad              1599 non-null   float64\n",
            " 8   pH                    1599 non-null   float64\n",
            " 9   sulfatos              1599 non-null   float64\n",
            " 10  alcohol               1599 non-null   float64\n",
            " 11  calidad               1599 non-null   int64  \n",
            "dtypes: float64(11), int64(1)\n",
            "memory usage: 150.0 KB\n"
          ]
        }
      ]
    },
    {
      "cell_type": "markdown",
      "source": [
        "A pesar de que no tenemos datos faltantes ejecutaremos las instrucciónes pertinenetes para cuando ocurra el caso, puedas hacerlo."
      ],
      "metadata": {
        "id": "Ve8S4ZqRmB2_"
      }
    },
    {
      "cell_type": "code",
      "source": [
        "# Debe tomarse en cuenta que resulta optimo realizar el procesamiento de datos \n",
        "# sobre una copia de la variable original\n",
        "data_j = data"
      ],
      "metadata": {
        "id": "aRxk_rjjlc6q"
      },
      "execution_count": 7,
      "outputs": []
    },
    {
      "cell_type": "code",
      "source": [
        "# Observamos si nuestras variables tienen ausencias en de valores \n",
        "print(data_j.isna().sum()/len(data_j))"
      ],
      "metadata": {
        "colab": {
          "base_uri": "https://localhost:8080/"
        },
        "id": "siFh88uGRzVL",
        "outputId": "ed79f4f2-e74a-4c41-b449-e51a1ab53eba"
      },
      "execution_count": 8,
      "outputs": [
        {
          "output_type": "stream",
          "name": "stdout",
          "text": [
            "acidez_fija             0.0\n",
            "acidez_volátil          0.0\n",
            "acido_cítrico           0.0\n",
            "azucar_residual         0.0\n",
            "cloruros                0.0\n",
            "dioxido_azufre_libre    0.0\n",
            "dioxido_azufre_total    0.0\n",
            "densidad                0.0\n",
            "pH                      0.0\n",
            "sulfatos                0.0\n",
            "alcohol                 0.0\n",
            "calidad                 0.0\n",
            "dtype: float64\n"
          ]
        }
      ]
    },
    {
      "cell_type": "code",
      "source": [
        "# En este caso en particular nuestra base de datos no posee valores vacíos.\n",
        "# Sin embargo, se utilizaria el siguiente código sobre la base de datos si existiesen.\n",
        "\"data_t=data_j.dropna()\""
      ],
      "metadata": {
        "colab": {
          "base_uri": "https://localhost:8080/",
          "height": 36
        },
        "id": "YeP-_gtcZXpJ",
        "outputId": "6db29ba5-f7a3-4761-9385-ea9729bab0bf"
      },
      "execution_count": 9,
      "outputs": [
        {
          "output_type": "execute_result",
          "data": {
            "text/plain": [
              "'data_t=data_j.dropna()'"
            ],
            "application/vnd.google.colaboratory.intrinsic+json": {
              "type": "string"
            }
          },
          "metadata": {},
          "execution_count": 9
        }
      ]
    },
    {
      "cell_type": "code",
      "source": [
        "# Verificamos el tamaño del conjunto de datos después de este paso de limpieza de datos.\n",
        "print(\"Cantidad de datos después de eliminar ausencias: \", data_j.shape[0])\n",
        "# Naturalmente al no haber datos vacíos la base de datos seguirá con el mismo número de entradas"
      ],
      "metadata": {
        "colab": {
          "base_uri": "https://localhost:8080/"
        },
        "id": "E-z0eoqRaIb-",
        "outputId": "fe0fc82e-b6cc-4533-c544-da4e0da07040"
      },
      "execution_count": 10,
      "outputs": [
        {
          "output_type": "stream",
          "name": "stdout",
          "text": [
            "Cantidad de datos después de eliminar ausencias:  1599\n"
          ]
        }
      ]
    },
    {
      "cell_type": "code",
      "source": [
        "# En la exploración de datos suele mostrase si hay datos duplicados,\n",
        "# sin embargo, en este no es el caso, aún así cuando esto se presente,\n",
        "# podemos usar la siguiente instrucción\n",
        "\"data_j=data_j.drop_duplicates()\"\n",
        "# y nuevamente observamos el tamaño del conjunto de datos después de este paso de limpieza de datos.\n",
        "print(\"Cantidad de datos después de eliminar duplicados: \", data_j.shape[0])"
      ],
      "metadata": {
        "colab": {
          "base_uri": "https://localhost:8080/"
        },
        "id": "MGGdQC8yaaNN",
        "outputId": "0c5018c1-1b53-4680-8daa-074bdbb13da5"
      },
      "execution_count": 11,
      "outputs": [
        {
          "output_type": "stream",
          "name": "stdout",
          "text": [
            "Cantidad de datos después de eliminar duplicados:  1599\n"
          ]
        }
      ]
    },
    {
      "cell_type": "markdown",
      "source": [
        "##**4. Elaboración del modelo**\n",
        "En este frgmento de código, se selecciona la variable objetivo 'Ajustado' del conjunto de datos y se elimina de las variables explicativas. Luego, se aplica una transformación polinómica de grado 2 a las variables explicativas para crear nuevas variables que puedan mejorar el ajuste del modelo.\n",
        "\n",
        "Para ello, se utiliza la clase PolynomialFeatures de sklearn, se ajusta y transforma los datos con la variable poly_X. Esto genera nuevas variables como el cuadrado de las variables existentes y las multiplicaciones entre ellas.\n",
        "\n",
        "A continuación, se realiza la división entre el conjunto de entrenamiento y el de test, se reservando el 20% de los datos para el test. Se crea un objeto de la clase LinearRegression y se ajusta el modelo con los datos de entrenamiento con las nuevas variables polinomiales."
      ],
      "metadata": {
        "id": "YBcZOYlvTNa-"
      }
    },
    {
      "cell_type": "code",
      "source": [
        "# Seleccionamos la variable objetivo, en este caso \"Ajustado\"\n",
        "Y = data_j['calidad']\n",
        "\n",
        "# De la totalidad de datos se elimina la variable \"Ajustado\" y \"Fecha\"\n",
        "X = data_j.drop(['calidad'], axis=1)\n",
        "\n",
        "# Aplicamos la tranformación polinomial a las variables de entrada.\n",
        "poly = PolynomialFeatures(degree=2)\n",
        "X_poly = poly.fit_transform(X)\n",
        "\n",
        "# Realizamos la división entrenamiento - test. Se deja 20% de los datos para el test.\n",
        "X_train, X_test, Y_train, Y_test = train_test_split(X_poly, Y, test_size = 0.2, random_state = 0)\n",
        "\n",
        "# Creación del objeto de la clase LinearRegression y ajuste del modelo a los datos.\n",
        "reg_poly = LinearRegression()\n",
        "reg_poly.fit(X_train, Y_train)\n"
      ],
      "metadata": {
        "colab": {
          "base_uri": "https://localhost:8080/"
        },
        "id": "4H0dMrjCTOIT",
        "outputId": "50a7ae00-7744-40cf-8c19-0f40221f034b"
      },
      "execution_count": 14,
      "outputs": [
        {
          "output_type": "execute_result",
          "data": {
            "text/plain": [
              "LinearRegression()"
            ]
          },
          "metadata": {},
          "execution_count": 14
        }
      ]
    },
    {
      "cell_type": "markdown",
      "source": [
        "##**5. Evaluación del modelo**\n",
        "En el siguiente código se utilizan las funciones de sklearn mean_squared_error, mean_absolute_error, r2_score para calcular el Error medio cuadrático (MSE), Error absoluto medio (MAE) y el Coeficiente de determinación (R²) respectivamente. Además se calcula el RMSE a partir del MSE. Se utilizan las variables poly_Y_test y y_pred como entrada para las funciones de las métricas."
      ],
      "metadata": {
        "id": "TzbOtAb7TNOV"
      }
    },
    {
      "cell_type": "code",
      "source": [
        "# Obtener las predicciones del modelo sobre el conjunto de prueba\n",
        "y_pred = reg_poly.predict(X_test)\n",
        "\n",
        "# Calcular las métricas de rendimiento del modelo\n",
        "mse = mean_squared_error(Y_test, y_pred)\n",
        "rmse = mse**(1/2)\n",
        "mae = mean_absolute_error(Y_test, y_pred)\n",
        "r2 = r2_score(Y_test, y_pred)\n",
        "\n",
        "# Imprimir las métricas\n",
        "print(f'Métricas del modelo de regresión lineal polinómico múltiple')\n",
        "print(f'MSE: {mse:.2f}')\n",
        "print(f'RMSE: {rmse:.2f}')\n",
        "print(f'MAE: {mae:.2f}')\n",
        "print(f'R²: {r2:.2f}')\n"
      ],
      "metadata": {
        "colab": {
          "base_uri": "https://localhost:8080/"
        },
        "id": "2XCWXXYuWdS2",
        "outputId": "2e1fe90f-6ae1-440b-f80f-3d6bc01691f9"
      },
      "execution_count": 15,
      "outputs": [
        {
          "output_type": "stream",
          "name": "stdout",
          "text": [
            "Métricas del modelo de regresión lineal polinómico múltiple\n",
            "MSE: 0.41\n",
            "RMSE: 0.64\n",
            "MAE: 0.49\n",
            "R²: 0.29\n"
          ]
        }
      ]
    },
    {
      "cell_type": "markdown",
      "source": [
        "Recordando que las métricas anteriores, señalan:\n",
        "* El Error Medio Cuadrático (MSE) es una medida de la calidad del ajuste del modelo. El valor del MSE es una medida de la diferencia entre los valores predichos y los valores reales. Un valor bajo del MSE indica un buen ajuste del modelo.\n",
        "* El Error Absoluto Medio (MAE) es otra medida de la calidad del ajuste del modelo. El valor del MAE es la media de la diferencia absoluta entre los valores predichos y los valores reales. Al igual que el MSE, un valor bajo del MAE indica un buen ajuste del modelo.\n",
        "* El Coeficiente de Determinación (R²) es una medida de la calidad del ajuste del modelo en términos de cuán bien los valores predichos explican la variación de los valores reales. El valor del R² varía entre 0 y 1, donde un valor cercano a 1 indica un buen ajuste del modelo.\n"
      ],
      "metadata": {
        "id": "K3hUPefqYsL-"
      }
    },
    {
      "cell_type": "markdown",
      "source": [
        "##**6.Interpretación del modelo**\n",
        "En esta parte se genera un reporte estadístico del modelo utilizando la librería statsmodels. El reporte incluye información sobre los coeficientes de regresión, los valores p, el R-cuadrada, entre otros. El ajuste del modelo se hace utilizando el método OLS (Ordinary Least Squares), el cual busca minimizar la suma de los cuadrados de las diferencias entre los valores observados y los valores predichos."
      ],
      "metadata": {
        "id": "VAT6Rj7Bas4r"
      }
    },
    {
      "cell_type": "code",
      "source": [
        "# Ajustar el modelo utilizando OLS (Ordinary Least Squares)\n",
        "model = sm.OLS(Y, X).fit()\n",
        "\n",
        "# Generar el reporte estadístico del modelo\n",
        "print(model.summary())\n"
      ],
      "metadata": {
        "colab": {
          "base_uri": "https://localhost:8080/"
        },
        "id": "bLOOmNceauQx",
        "outputId": "6f69aeb3-2a16-4416-a7c9-819968ea21ed"
      },
      "execution_count": 16,
      "outputs": [
        {
          "output_type": "stream",
          "name": "stdout",
          "text": [
            "                                 OLS Regression Results                                \n",
            "=======================================================================================\n",
            "Dep. Variable:                calidad   R-squared (uncentered):                   0.987\n",
            "Model:                            OLS   Adj. R-squared (uncentered):              0.987\n",
            "Method:                 Least Squares   F-statistic:                          1.108e+04\n",
            "Date:                Mon, 30 Jan 2023   Prob (F-statistic):                        0.00\n",
            "Time:                        00:11:17   Log-Likelihood:                         -1569.7\n",
            "No. Observations:                1599   AIC:                                      3161.\n",
            "Df Residuals:                    1588   BIC:                                      3221.\n",
            "Df Model:                          11                                                  \n",
            "Covariance Type:            nonrobust                                                  \n",
            "========================================================================================\n",
            "                           coef    std err          t      P>|t|      [0.025      0.975]\n",
            "----------------------------------------------------------------------------------------\n",
            "acidez_fija              0.0042      0.016      0.255      0.799      -0.028       0.036\n",
            "acidez_volátil          -1.0997      0.120     -9.157      0.000      -1.335      -0.864\n",
            "acido_cítrico           -0.1841      0.147     -1.251      0.211      -0.473       0.105\n",
            "azucar_residual          0.0071      0.012      0.587      0.557      -0.017       0.031\n",
            "cloruros                -1.9114      0.418     -4.575      0.000      -2.731      -1.092\n",
            "dioxido_azufre_libre     0.0045      0.002      2.102      0.036       0.000       0.009\n",
            "dioxido_azufre_total    -0.0033      0.001     -4.565      0.000      -0.005      -0.002\n",
            "densidad                 4.5291      0.625      7.243      0.000       3.303       5.756\n",
            "pH                      -0.5229      0.160     -3.268      0.001      -0.837      -0.209\n",
            "sulfatos                 0.8871      0.111      8.006      0.000       0.670       1.104\n",
            "alcohol                  0.2970      0.017     17.217      0.000       0.263       0.331\n",
            "==============================================================================\n",
            "Omnibus:                       25.388   Durbin-Watson:                   1.754\n",
            "Prob(Omnibus):                  0.000   Jarque-Bera (JB):               37.530\n",
            "Skew:                          -0.159   Prob(JB):                     7.09e-09\n",
            "Kurtosis:                       3.680   Cond. No.                     2.47e+03\n",
            "==============================================================================\n",
            "\n",
            "Notes:\n",
            "[1] R² is computed without centering (uncentered) since the model does not contain a constant.\n",
            "[2] Standard Errors assume that the covariance matrix of the errors is correctly specified.\n",
            "[3] The condition number is large, 2.47e+03. This might indicate that there are\n",
            "strong multicollinearity or other numerical problems.\n"
          ]
        }
      ]
    },
    {
      "cell_type": "markdown",
      "source": [
        "* R² es el coeficiente de determinación, una medida que indica cuán bien el modelo se ajusta a los datos. El cálculo de R² se realiza sin centrar (sin centrar) ya que el modelo no contiene una constante.\n",
        "* Los errores estándar asumen que la matriz de covarianza de los errores está correctamente especificada.\n",
        "* El número de condición es grande, 2.06e+08. Esto podría indicar que hay una alta multicolinealidad o otros problemas numéricos.\n",
        "\n",
        "\n",
        "Para solucionar la advertencia [1], se puede agregar una constante al modelo, esto se logra agregando una columna de 1 en X_poly antes de aplicar el modelo de regresión.\n",
        "\n",
        "Para solucionar la advertencia [2], se puede revisar si la matriz de covarianza de los errores está especificada correctamente, y ajustarla si es necesario.\n",
        "\n",
        "Para solucionar la advertencia [3], se puede realizar un análisis de varianza para identificar variables con alta correlación entre sí y eliminarlas del conjunto de datos. También se puede considerar regularizar el modelo, como Ridge o Lasso Regression, para reducir el impacto de las variables altamente correlacionadas."
      ],
      "metadata": {
        "id": "2GLO58GRfk5z"
      }
    },
    {
      "cell_type": "code",
      "source": [
        "import statsmodels.formula.api as smf\n",
        "\n",
        "# Crear un modelo lineal utilizando la notación de fórmula\n",
        "reg_poly_fit = smf.ols(formula = 'Y ~ X_poly', data = data_j).fit()\n",
        "\n",
        "# Obtener un resumen del modelo\n",
        "reg_poly_fit.summary()\n"
      ],
      "metadata": {
        "colab": {
          "base_uri": "https://localhost:8080/",
          "height": 1000
        },
        "id": "ONk_MLura7qh",
        "outputId": "4dfb2b4b-3013-48d9-89cd-ab44d19d911d"
      },
      "execution_count": 17,
      "outputs": [
        {
          "output_type": "execute_result",
          "data": {
            "text/plain": [
              "<class 'statsmodels.iolib.summary.Summary'>\n",
              "\"\"\"\n",
              "                            OLS Regression Results                            \n",
              "==============================================================================\n",
              "Dep. Variable:                      Y   R-squared:                       0.435\n",
              "Model:                            OLS   Adj. R-squared:                  0.406\n",
              "Method:                 Least Squares   F-statistic:                     15.19\n",
              "Date:                Mon, 30 Jan 2023   Prob (F-statistic):          4.20e-138\n",
              "Time:                        00:12:28   Log-Likelihood:                -1470.7\n",
              "No. Observations:                1599   AIC:                             3097.\n",
              "Df Residuals:                    1521   BIC:                             3517.\n",
              "Df Model:                          77                                         \n",
              "Covariance Type:            nonrobust                                         \n",
              "==============================================================================\n",
              "                 coef    std err          t      P>|t|      [0.025      0.975]\n",
              "------------------------------------------------------------------------------\n",
              "Intercept  -6254.2746   9171.791     -0.682      0.495   -2.42e+04    1.17e+04\n",
              "X_poly[0]  -6254.2746   9171.791     -0.682      0.495   -2.42e+04    1.17e+04\n",
              "X_poly[1]    -65.3343     36.113     -1.809      0.071    -136.172       5.503\n",
              "X_poly[2]    -59.3516    169.108     -0.351      0.726    -391.062     272.359\n",
              "X_poly[3]   -136.9611    192.815     -0.710      0.478    -515.172     241.250\n",
              "X_poly[4]    -31.2441     26.750     -1.168      0.243     -83.715      21.227\n",
              "X_poly[5]  -1078.3363    648.945     -1.662      0.097   -2351.257     194.585\n",
              "X_poly[6]     -6.8839      3.080     -2.235      0.026     -12.925      -0.843\n",
              "X_poly[7]      2.8763      1.086      2.649      0.008       0.746       5.006\n",
              "X_poly[8]   2.734e+04   3.74e+04      0.731      0.465   -4.61e+04    1.01e+05\n",
              "X_poly[9]   -650.2700    279.177     -2.329      0.020   -1197.883    -102.657\n",
              "X_poly[10]   164.2169    182.945      0.898      0.370    -194.634     523.068\n",
              "X_poly[11]    58.0094     39.080      1.484      0.138     -18.647     134.666\n",
              "X_poly[12]    -0.0516      0.022     -2.347      0.019      -0.095      -0.008\n",
              "X_poly[13]    -0.2666      0.202     -1.321      0.187      -0.662       0.129\n",
              "X_poly[14]    -0.2941      0.241     -1.219      0.223      -0.767       0.179\n",
              "X_poly[15]    -0.0353      0.029     -1.216      0.224      -0.092       0.022\n",
              "X_poly[16]    -1.8580      0.691     -2.687      0.007      -3.214      -0.502\n",
              "X_poly[17]    -0.0055      0.004     -1.541      0.124      -0.012       0.001\n",
              "X_poly[18]     0.0012      0.001      0.876      0.381      -0.001       0.004\n",
              "X_poly[19]    68.2115     36.984      1.844      0.065      -4.334     140.757\n",
              "X_poly[20]    -0.5580      0.349     -1.599      0.110      -1.242       0.126\n",
              "X_poly[21]     0.1758      0.187      0.940      0.348      -0.191       0.543\n",
              "X_poly[22]     0.0460      0.042      1.105      0.269      -0.036       0.128\n",
              "X_poly[23]    -0.1110      0.544     -0.204      0.838      -1.178       0.956\n",
              "X_poly[24]     1.4862      1.104      1.347      0.178      -0.678       3.651\n",
              "X_poly[25]    -0.1536      0.150     -1.021      0.307      -0.449       0.141\n",
              "X_poly[26]     2.9786      3.370      0.884      0.377      -3.631       9.588\n",
              "X_poly[27]    -0.0301      0.019     -1.579      0.115      -0.067       0.007\n",
              "X_poly[28]     0.0223      0.006      3.527      0.000       0.010       0.035\n",
              "X_poly[29]    61.7971    171.866      0.360      0.719    -275.322     398.916\n",
              "X_poly[30]    -1.6519      1.351     -1.222      0.222      -4.303       0.999\n",
              "X_poly[31]    -1.1787      1.069     -1.102      0.270      -3.276       0.919\n",
              "X_poly[32]     0.4304      0.209      2.055      0.040       0.020       0.841\n",
              "X_poly[33]     0.4721      0.861      0.549      0.583      -1.216       2.160\n",
              "X_poly[34]    -0.0087      0.120     -0.073      0.942      -0.245       0.227\n",
              "X_poly[35]     3.1378      3.817      0.822      0.411      -4.350      10.626\n",
              "X_poly[36]     0.0124      0.023      0.549      0.583      -0.032       0.057\n",
              "X_poly[37]     0.0013      0.007      0.171      0.865      -0.013       0.016\n",
              "X_poly[38]   148.2082    196.009      0.756      0.450    -236.268     532.684\n",
              "X_poly[39]    -4.8378      1.678     -2.883      0.004      -8.130      -1.546\n",
              "X_poly[40]    -1.0584      1.227     -0.863      0.388      -3.465       1.348\n",
              "X_poly[41]     0.6252      0.250      2.502      0.012       0.135       1.115\n",
              "X_poly[42]    -0.0147      0.008     -1.785      0.075      -0.031       0.001\n",
              "X_poly[43]     0.1178      0.568      0.207      0.836      -0.997       1.233\n",
              "X_poly[44]     0.0002      0.002      0.126      0.900      -0.003       0.004\n",
              "X_poly[45]     0.0009      0.001      1.350      0.177      -0.000       0.002\n",
              "X_poly[46]    32.6798     27.299      1.197      0.231     -20.867      86.227\n",
              "X_poly[47]    -0.3376      0.263     -1.285      0.199      -0.853       0.178\n",
              "X_poly[48]    -0.1223      0.190     -0.642      0.521      -0.496       0.251\n",
              "X_poly[49]     0.0285      0.033      0.875      0.382      -0.035       0.092\n",
              "X_poly[50]    -6.7446      5.615     -1.201      0.230     -17.759       4.269\n",
              "X_poly[51]    -0.0975      0.077     -1.267      0.205      -0.248       0.053\n",
              "X_poly[52]    -0.0154      0.030     -0.516      0.606      -0.074       0.043\n",
              "X_poly[53]  1105.4831    657.222      1.682      0.093    -183.674    2394.640\n",
              "X_poly[54]    -4.7117      6.035     -0.781      0.435     -16.549       7.126\n",
              "X_poly[55]     1.8469      2.990      0.618      0.537      -4.017       7.711\n",
              "X_poly[56]     0.5320      0.913      0.583      0.560      -1.259       2.323\n",
              "X_poly[57]    -0.0003      0.000     -1.301      0.193      -0.001       0.000\n",
              "X_poly[58] -8.123e-05      0.000     -0.687      0.493      -0.000       0.000\n",
              "X_poly[59]     6.9875      3.141      2.225      0.026       0.827      13.148\n",
              "X_poly[60]    -0.0184      0.025     -0.737      0.461      -0.067       0.031\n",
              "X_poly[61]    -0.0476      0.017     -2.771      0.006      -0.081      -0.014\n",
              "X_poly[62]     0.0096      0.004      2.408      0.016       0.002       0.017\n",
              "X_poly[63]  1.431e-05    2.3e-05      0.623      0.533   -3.07e-05    5.94e-05\n",
              "X_poly[64]    -2.9048      1.110     -2.617      0.009      -5.082      -0.728\n",
              "X_poly[65]     0.0082      0.010      0.835      0.404      -0.011       0.027\n",
              "X_poly[66]     0.0110      0.006      1.927      0.054      -0.000       0.022\n",
              "X_poly[67]    -0.0042      0.001     -2.862      0.004      -0.007      -0.001\n",
              "X_poly[68] -1.488e+04   1.91e+04     -0.779      0.436   -5.23e+04    2.26e+04\n",
              "X_poly[69]   672.9346    286.379      2.350      0.019     111.196    1234.673\n",
              "X_poly[70]  -166.8561    185.865     -0.898      0.369    -531.434     197.722\n",
              "X_poly[71]   -60.2339     39.950     -1.508      0.132    -138.598      18.130\n",
              "X_poly[72]    -3.1793      1.437     -2.212      0.027      -5.999      -0.360\n",
              "X_poly[73]     0.7188      1.359      0.529      0.597      -1.947       3.385\n",
              "X_poly[74]     0.7351      0.369      1.993      0.046       0.011       1.459\n",
              "X_poly[75]    -1.1202      0.445     -2.515      0.012      -1.994      -0.247\n",
              "X_poly[76]     0.2395      0.224      1.070      0.285      -0.200       0.679\n",
              "X_poly[77]    -0.0555      0.030     -1.837      0.066      -0.115       0.004\n",
              "==============================================================================\n",
              "Omnibus:                       11.228   Durbin-Watson:                   1.770\n",
              "Prob(Omnibus):                  0.004   Jarque-Bera (JB):               15.720\n",
              "Skew:                          -0.032   Prob(JB):                     0.000386\n",
              "Kurtosis:                       3.481   Cond. No.                     3.28e+15\n",
              "==============================================================================\n",
              "\n",
              "Notes:\n",
              "[1] Standard Errors assume that the covariance matrix of the errors is correctly specified.\n",
              "[2] The smallest eigenvalue is 5.84e-21. This might indicate that there are\n",
              "strong multicollinearity problems or that the design matrix is singular.\n",
              "\"\"\""
            ],
            "text/html": [
              "<table class=\"simpletable\">\n",
              "<caption>OLS Regression Results</caption>\n",
              "<tr>\n",
              "  <th>Dep. Variable:</th>            <td>Y</td>        <th>  R-squared:         </th> <td>   0.435</td> \n",
              "</tr>\n",
              "<tr>\n",
              "  <th>Model:</th>                   <td>OLS</td>       <th>  Adj. R-squared:    </th> <td>   0.406</td> \n",
              "</tr>\n",
              "<tr>\n",
              "  <th>Method:</th>             <td>Least Squares</td>  <th>  F-statistic:       </th> <td>   15.19</td> \n",
              "</tr>\n",
              "<tr>\n",
              "  <th>Date:</th>             <td>Mon, 30 Jan 2023</td> <th>  Prob (F-statistic):</th> <td>4.20e-138</td>\n",
              "</tr>\n",
              "<tr>\n",
              "  <th>Time:</th>                 <td>00:12:28</td>     <th>  Log-Likelihood:    </th> <td> -1470.7</td> \n",
              "</tr>\n",
              "<tr>\n",
              "  <th>No. Observations:</th>      <td>  1599</td>      <th>  AIC:               </th> <td>   3097.</td> \n",
              "</tr>\n",
              "<tr>\n",
              "  <th>Df Residuals:</th>          <td>  1521</td>      <th>  BIC:               </th> <td>   3517.</td> \n",
              "</tr>\n",
              "<tr>\n",
              "  <th>Df Model:</th>              <td>    77</td>      <th>                     </th>     <td> </td>    \n",
              "</tr>\n",
              "<tr>\n",
              "  <th>Covariance Type:</th>      <td>nonrobust</td>    <th>                     </th>     <td> </td>    \n",
              "</tr>\n",
              "</table>\n",
              "<table class=\"simpletable\">\n",
              "<tr>\n",
              "       <td></td>         <th>coef</th>     <th>std err</th>      <th>t</th>      <th>P>|t|</th>  <th>[0.025</th>    <th>0.975]</th>  \n",
              "</tr>\n",
              "<tr>\n",
              "  <th>Intercept</th>  <td>-6254.2746</td> <td> 9171.791</td> <td>   -0.682</td> <td> 0.495</td> <td>-2.42e+04</td> <td> 1.17e+04</td>\n",
              "</tr>\n",
              "<tr>\n",
              "  <th>X_poly[0]</th>  <td>-6254.2746</td> <td> 9171.791</td> <td>   -0.682</td> <td> 0.495</td> <td>-2.42e+04</td> <td> 1.17e+04</td>\n",
              "</tr>\n",
              "<tr>\n",
              "  <th>X_poly[1]</th>  <td>  -65.3343</td> <td>   36.113</td> <td>   -1.809</td> <td> 0.071</td> <td> -136.172</td> <td>    5.503</td>\n",
              "</tr>\n",
              "<tr>\n",
              "  <th>X_poly[2]</th>  <td>  -59.3516</td> <td>  169.108</td> <td>   -0.351</td> <td> 0.726</td> <td> -391.062</td> <td>  272.359</td>\n",
              "</tr>\n",
              "<tr>\n",
              "  <th>X_poly[3]</th>  <td> -136.9611</td> <td>  192.815</td> <td>   -0.710</td> <td> 0.478</td> <td> -515.172</td> <td>  241.250</td>\n",
              "</tr>\n",
              "<tr>\n",
              "  <th>X_poly[4]</th>  <td>  -31.2441</td> <td>   26.750</td> <td>   -1.168</td> <td> 0.243</td> <td>  -83.715</td> <td>   21.227</td>\n",
              "</tr>\n",
              "<tr>\n",
              "  <th>X_poly[5]</th>  <td>-1078.3363</td> <td>  648.945</td> <td>   -1.662</td> <td> 0.097</td> <td>-2351.257</td> <td>  194.585</td>\n",
              "</tr>\n",
              "<tr>\n",
              "  <th>X_poly[6]</th>  <td>   -6.8839</td> <td>    3.080</td> <td>   -2.235</td> <td> 0.026</td> <td>  -12.925</td> <td>   -0.843</td>\n",
              "</tr>\n",
              "<tr>\n",
              "  <th>X_poly[7]</th>  <td>    2.8763</td> <td>    1.086</td> <td>    2.649</td> <td> 0.008</td> <td>    0.746</td> <td>    5.006</td>\n",
              "</tr>\n",
              "<tr>\n",
              "  <th>X_poly[8]</th>  <td> 2.734e+04</td> <td> 3.74e+04</td> <td>    0.731</td> <td> 0.465</td> <td>-4.61e+04</td> <td> 1.01e+05</td>\n",
              "</tr>\n",
              "<tr>\n",
              "  <th>X_poly[9]</th>  <td> -650.2700</td> <td>  279.177</td> <td>   -2.329</td> <td> 0.020</td> <td>-1197.883</td> <td> -102.657</td>\n",
              "</tr>\n",
              "<tr>\n",
              "  <th>X_poly[10]</th> <td>  164.2169</td> <td>  182.945</td> <td>    0.898</td> <td> 0.370</td> <td> -194.634</td> <td>  523.068</td>\n",
              "</tr>\n",
              "<tr>\n",
              "  <th>X_poly[11]</th> <td>   58.0094</td> <td>   39.080</td> <td>    1.484</td> <td> 0.138</td> <td>  -18.647</td> <td>  134.666</td>\n",
              "</tr>\n",
              "<tr>\n",
              "  <th>X_poly[12]</th> <td>   -0.0516</td> <td>    0.022</td> <td>   -2.347</td> <td> 0.019</td> <td>   -0.095</td> <td>   -0.008</td>\n",
              "</tr>\n",
              "<tr>\n",
              "  <th>X_poly[13]</th> <td>   -0.2666</td> <td>    0.202</td> <td>   -1.321</td> <td> 0.187</td> <td>   -0.662</td> <td>    0.129</td>\n",
              "</tr>\n",
              "<tr>\n",
              "  <th>X_poly[14]</th> <td>   -0.2941</td> <td>    0.241</td> <td>   -1.219</td> <td> 0.223</td> <td>   -0.767</td> <td>    0.179</td>\n",
              "</tr>\n",
              "<tr>\n",
              "  <th>X_poly[15]</th> <td>   -0.0353</td> <td>    0.029</td> <td>   -1.216</td> <td> 0.224</td> <td>   -0.092</td> <td>    0.022</td>\n",
              "</tr>\n",
              "<tr>\n",
              "  <th>X_poly[16]</th> <td>   -1.8580</td> <td>    0.691</td> <td>   -2.687</td> <td> 0.007</td> <td>   -3.214</td> <td>   -0.502</td>\n",
              "</tr>\n",
              "<tr>\n",
              "  <th>X_poly[17]</th> <td>   -0.0055</td> <td>    0.004</td> <td>   -1.541</td> <td> 0.124</td> <td>   -0.012</td> <td>    0.001</td>\n",
              "</tr>\n",
              "<tr>\n",
              "  <th>X_poly[18]</th> <td>    0.0012</td> <td>    0.001</td> <td>    0.876</td> <td> 0.381</td> <td>   -0.001</td> <td>    0.004</td>\n",
              "</tr>\n",
              "<tr>\n",
              "  <th>X_poly[19]</th> <td>   68.2115</td> <td>   36.984</td> <td>    1.844</td> <td> 0.065</td> <td>   -4.334</td> <td>  140.757</td>\n",
              "</tr>\n",
              "<tr>\n",
              "  <th>X_poly[20]</th> <td>   -0.5580</td> <td>    0.349</td> <td>   -1.599</td> <td> 0.110</td> <td>   -1.242</td> <td>    0.126</td>\n",
              "</tr>\n",
              "<tr>\n",
              "  <th>X_poly[21]</th> <td>    0.1758</td> <td>    0.187</td> <td>    0.940</td> <td> 0.348</td> <td>   -0.191</td> <td>    0.543</td>\n",
              "</tr>\n",
              "<tr>\n",
              "  <th>X_poly[22]</th> <td>    0.0460</td> <td>    0.042</td> <td>    1.105</td> <td> 0.269</td> <td>   -0.036</td> <td>    0.128</td>\n",
              "</tr>\n",
              "<tr>\n",
              "  <th>X_poly[23]</th> <td>   -0.1110</td> <td>    0.544</td> <td>   -0.204</td> <td> 0.838</td> <td>   -1.178</td> <td>    0.956</td>\n",
              "</tr>\n",
              "<tr>\n",
              "  <th>X_poly[24]</th> <td>    1.4862</td> <td>    1.104</td> <td>    1.347</td> <td> 0.178</td> <td>   -0.678</td> <td>    3.651</td>\n",
              "</tr>\n",
              "<tr>\n",
              "  <th>X_poly[25]</th> <td>   -0.1536</td> <td>    0.150</td> <td>   -1.021</td> <td> 0.307</td> <td>   -0.449</td> <td>    0.141</td>\n",
              "</tr>\n",
              "<tr>\n",
              "  <th>X_poly[26]</th> <td>    2.9786</td> <td>    3.370</td> <td>    0.884</td> <td> 0.377</td> <td>   -3.631</td> <td>    9.588</td>\n",
              "</tr>\n",
              "<tr>\n",
              "  <th>X_poly[27]</th> <td>   -0.0301</td> <td>    0.019</td> <td>   -1.579</td> <td> 0.115</td> <td>   -0.067</td> <td>    0.007</td>\n",
              "</tr>\n",
              "<tr>\n",
              "  <th>X_poly[28]</th> <td>    0.0223</td> <td>    0.006</td> <td>    3.527</td> <td> 0.000</td> <td>    0.010</td> <td>    0.035</td>\n",
              "</tr>\n",
              "<tr>\n",
              "  <th>X_poly[29]</th> <td>   61.7971</td> <td>  171.866</td> <td>    0.360</td> <td> 0.719</td> <td> -275.322</td> <td>  398.916</td>\n",
              "</tr>\n",
              "<tr>\n",
              "  <th>X_poly[30]</th> <td>   -1.6519</td> <td>    1.351</td> <td>   -1.222</td> <td> 0.222</td> <td>   -4.303</td> <td>    0.999</td>\n",
              "</tr>\n",
              "<tr>\n",
              "  <th>X_poly[31]</th> <td>   -1.1787</td> <td>    1.069</td> <td>   -1.102</td> <td> 0.270</td> <td>   -3.276</td> <td>    0.919</td>\n",
              "</tr>\n",
              "<tr>\n",
              "  <th>X_poly[32]</th> <td>    0.4304</td> <td>    0.209</td> <td>    2.055</td> <td> 0.040</td> <td>    0.020</td> <td>    0.841</td>\n",
              "</tr>\n",
              "<tr>\n",
              "  <th>X_poly[33]</th> <td>    0.4721</td> <td>    0.861</td> <td>    0.549</td> <td> 0.583</td> <td>   -1.216</td> <td>    2.160</td>\n",
              "</tr>\n",
              "<tr>\n",
              "  <th>X_poly[34]</th> <td>   -0.0087</td> <td>    0.120</td> <td>   -0.073</td> <td> 0.942</td> <td>   -0.245</td> <td>    0.227</td>\n",
              "</tr>\n",
              "<tr>\n",
              "  <th>X_poly[35]</th> <td>    3.1378</td> <td>    3.817</td> <td>    0.822</td> <td> 0.411</td> <td>   -4.350</td> <td>   10.626</td>\n",
              "</tr>\n",
              "<tr>\n",
              "  <th>X_poly[36]</th> <td>    0.0124</td> <td>    0.023</td> <td>    0.549</td> <td> 0.583</td> <td>   -0.032</td> <td>    0.057</td>\n",
              "</tr>\n",
              "<tr>\n",
              "  <th>X_poly[37]</th> <td>    0.0013</td> <td>    0.007</td> <td>    0.171</td> <td> 0.865</td> <td>   -0.013</td> <td>    0.016</td>\n",
              "</tr>\n",
              "<tr>\n",
              "  <th>X_poly[38]</th> <td>  148.2082</td> <td>  196.009</td> <td>    0.756</td> <td> 0.450</td> <td> -236.268</td> <td>  532.684</td>\n",
              "</tr>\n",
              "<tr>\n",
              "  <th>X_poly[39]</th> <td>   -4.8378</td> <td>    1.678</td> <td>   -2.883</td> <td> 0.004</td> <td>   -8.130</td> <td>   -1.546</td>\n",
              "</tr>\n",
              "<tr>\n",
              "  <th>X_poly[40]</th> <td>   -1.0584</td> <td>    1.227</td> <td>   -0.863</td> <td> 0.388</td> <td>   -3.465</td> <td>    1.348</td>\n",
              "</tr>\n",
              "<tr>\n",
              "  <th>X_poly[41]</th> <td>    0.6252</td> <td>    0.250</td> <td>    2.502</td> <td> 0.012</td> <td>    0.135</td> <td>    1.115</td>\n",
              "</tr>\n",
              "<tr>\n",
              "  <th>X_poly[42]</th> <td>   -0.0147</td> <td>    0.008</td> <td>   -1.785</td> <td> 0.075</td> <td>   -0.031</td> <td>    0.001</td>\n",
              "</tr>\n",
              "<tr>\n",
              "  <th>X_poly[43]</th> <td>    0.1178</td> <td>    0.568</td> <td>    0.207</td> <td> 0.836</td> <td>   -0.997</td> <td>    1.233</td>\n",
              "</tr>\n",
              "<tr>\n",
              "  <th>X_poly[44]</th> <td>    0.0002</td> <td>    0.002</td> <td>    0.126</td> <td> 0.900</td> <td>   -0.003</td> <td>    0.004</td>\n",
              "</tr>\n",
              "<tr>\n",
              "  <th>X_poly[45]</th> <td>    0.0009</td> <td>    0.001</td> <td>    1.350</td> <td> 0.177</td> <td>   -0.000</td> <td>    0.002</td>\n",
              "</tr>\n",
              "<tr>\n",
              "  <th>X_poly[46]</th> <td>   32.6798</td> <td>   27.299</td> <td>    1.197</td> <td> 0.231</td> <td>  -20.867</td> <td>   86.227</td>\n",
              "</tr>\n",
              "<tr>\n",
              "  <th>X_poly[47]</th> <td>   -0.3376</td> <td>    0.263</td> <td>   -1.285</td> <td> 0.199</td> <td>   -0.853</td> <td>    0.178</td>\n",
              "</tr>\n",
              "<tr>\n",
              "  <th>X_poly[48]</th> <td>   -0.1223</td> <td>    0.190</td> <td>   -0.642</td> <td> 0.521</td> <td>   -0.496</td> <td>    0.251</td>\n",
              "</tr>\n",
              "<tr>\n",
              "  <th>X_poly[49]</th> <td>    0.0285</td> <td>    0.033</td> <td>    0.875</td> <td> 0.382</td> <td>   -0.035</td> <td>    0.092</td>\n",
              "</tr>\n",
              "<tr>\n",
              "  <th>X_poly[50]</th> <td>   -6.7446</td> <td>    5.615</td> <td>   -1.201</td> <td> 0.230</td> <td>  -17.759</td> <td>    4.269</td>\n",
              "</tr>\n",
              "<tr>\n",
              "  <th>X_poly[51]</th> <td>   -0.0975</td> <td>    0.077</td> <td>   -1.267</td> <td> 0.205</td> <td>   -0.248</td> <td>    0.053</td>\n",
              "</tr>\n",
              "<tr>\n",
              "  <th>X_poly[52]</th> <td>   -0.0154</td> <td>    0.030</td> <td>   -0.516</td> <td> 0.606</td> <td>   -0.074</td> <td>    0.043</td>\n",
              "</tr>\n",
              "<tr>\n",
              "  <th>X_poly[53]</th> <td> 1105.4831</td> <td>  657.222</td> <td>    1.682</td> <td> 0.093</td> <td> -183.674</td> <td> 2394.640</td>\n",
              "</tr>\n",
              "<tr>\n",
              "  <th>X_poly[54]</th> <td>   -4.7117</td> <td>    6.035</td> <td>   -0.781</td> <td> 0.435</td> <td>  -16.549</td> <td>    7.126</td>\n",
              "</tr>\n",
              "<tr>\n",
              "  <th>X_poly[55]</th> <td>    1.8469</td> <td>    2.990</td> <td>    0.618</td> <td> 0.537</td> <td>   -4.017</td> <td>    7.711</td>\n",
              "</tr>\n",
              "<tr>\n",
              "  <th>X_poly[56]</th> <td>    0.5320</td> <td>    0.913</td> <td>    0.583</td> <td> 0.560</td> <td>   -1.259</td> <td>    2.323</td>\n",
              "</tr>\n",
              "<tr>\n",
              "  <th>X_poly[57]</th> <td>   -0.0003</td> <td>    0.000</td> <td>   -1.301</td> <td> 0.193</td> <td>   -0.001</td> <td>    0.000</td>\n",
              "</tr>\n",
              "<tr>\n",
              "  <th>X_poly[58]</th> <td>-8.123e-05</td> <td>    0.000</td> <td>   -0.687</td> <td> 0.493</td> <td>   -0.000</td> <td>    0.000</td>\n",
              "</tr>\n",
              "<tr>\n",
              "  <th>X_poly[59]</th> <td>    6.9875</td> <td>    3.141</td> <td>    2.225</td> <td> 0.026</td> <td>    0.827</td> <td>   13.148</td>\n",
              "</tr>\n",
              "<tr>\n",
              "  <th>X_poly[60]</th> <td>   -0.0184</td> <td>    0.025</td> <td>   -0.737</td> <td> 0.461</td> <td>   -0.067</td> <td>    0.031</td>\n",
              "</tr>\n",
              "<tr>\n",
              "  <th>X_poly[61]</th> <td>   -0.0476</td> <td>    0.017</td> <td>   -2.771</td> <td> 0.006</td> <td>   -0.081</td> <td>   -0.014</td>\n",
              "</tr>\n",
              "<tr>\n",
              "  <th>X_poly[62]</th> <td>    0.0096</td> <td>    0.004</td> <td>    2.408</td> <td> 0.016</td> <td>    0.002</td> <td>    0.017</td>\n",
              "</tr>\n",
              "<tr>\n",
              "  <th>X_poly[63]</th> <td> 1.431e-05</td> <td>  2.3e-05</td> <td>    0.623</td> <td> 0.533</td> <td>-3.07e-05</td> <td> 5.94e-05</td>\n",
              "</tr>\n",
              "<tr>\n",
              "  <th>X_poly[64]</th> <td>   -2.9048</td> <td>    1.110</td> <td>   -2.617</td> <td> 0.009</td> <td>   -5.082</td> <td>   -0.728</td>\n",
              "</tr>\n",
              "<tr>\n",
              "  <th>X_poly[65]</th> <td>    0.0082</td> <td>    0.010</td> <td>    0.835</td> <td> 0.404</td> <td>   -0.011</td> <td>    0.027</td>\n",
              "</tr>\n",
              "<tr>\n",
              "  <th>X_poly[66]</th> <td>    0.0110</td> <td>    0.006</td> <td>    1.927</td> <td> 0.054</td> <td>   -0.000</td> <td>    0.022</td>\n",
              "</tr>\n",
              "<tr>\n",
              "  <th>X_poly[67]</th> <td>   -0.0042</td> <td>    0.001</td> <td>   -2.862</td> <td> 0.004</td> <td>   -0.007</td> <td>   -0.001</td>\n",
              "</tr>\n",
              "<tr>\n",
              "  <th>X_poly[68]</th> <td>-1.488e+04</td> <td> 1.91e+04</td> <td>   -0.779</td> <td> 0.436</td> <td>-5.23e+04</td> <td> 2.26e+04</td>\n",
              "</tr>\n",
              "<tr>\n",
              "  <th>X_poly[69]</th> <td>  672.9346</td> <td>  286.379</td> <td>    2.350</td> <td> 0.019</td> <td>  111.196</td> <td> 1234.673</td>\n",
              "</tr>\n",
              "<tr>\n",
              "  <th>X_poly[70]</th> <td> -166.8561</td> <td>  185.865</td> <td>   -0.898</td> <td> 0.369</td> <td> -531.434</td> <td>  197.722</td>\n",
              "</tr>\n",
              "<tr>\n",
              "  <th>X_poly[71]</th> <td>  -60.2339</td> <td>   39.950</td> <td>   -1.508</td> <td> 0.132</td> <td> -138.598</td> <td>   18.130</td>\n",
              "</tr>\n",
              "<tr>\n",
              "  <th>X_poly[72]</th> <td>   -3.1793</td> <td>    1.437</td> <td>   -2.212</td> <td> 0.027</td> <td>   -5.999</td> <td>   -0.360</td>\n",
              "</tr>\n",
              "<tr>\n",
              "  <th>X_poly[73]</th> <td>    0.7188</td> <td>    1.359</td> <td>    0.529</td> <td> 0.597</td> <td>   -1.947</td> <td>    3.385</td>\n",
              "</tr>\n",
              "<tr>\n",
              "  <th>X_poly[74]</th> <td>    0.7351</td> <td>    0.369</td> <td>    1.993</td> <td> 0.046</td> <td>    0.011</td> <td>    1.459</td>\n",
              "</tr>\n",
              "<tr>\n",
              "  <th>X_poly[75]</th> <td>   -1.1202</td> <td>    0.445</td> <td>   -2.515</td> <td> 0.012</td> <td>   -1.994</td> <td>   -0.247</td>\n",
              "</tr>\n",
              "<tr>\n",
              "  <th>X_poly[76]</th> <td>    0.2395</td> <td>    0.224</td> <td>    1.070</td> <td> 0.285</td> <td>   -0.200</td> <td>    0.679</td>\n",
              "</tr>\n",
              "<tr>\n",
              "  <th>X_poly[77]</th> <td>   -0.0555</td> <td>    0.030</td> <td>   -1.837</td> <td> 0.066</td> <td>   -0.115</td> <td>    0.004</td>\n",
              "</tr>\n",
              "</table>\n",
              "<table class=\"simpletable\">\n",
              "<tr>\n",
              "  <th>Omnibus:</th>       <td>11.228</td> <th>  Durbin-Watson:     </th> <td>   1.770</td>\n",
              "</tr>\n",
              "<tr>\n",
              "  <th>Prob(Omnibus):</th> <td> 0.004</td> <th>  Jarque-Bera (JB):  </th> <td>  15.720</td>\n",
              "</tr>\n",
              "<tr>\n",
              "  <th>Skew:</th>          <td>-0.032</td> <th>  Prob(JB):          </th> <td>0.000386</td>\n",
              "</tr>\n",
              "<tr>\n",
              "  <th>Kurtosis:</th>      <td> 3.481</td> <th>  Cond. No.          </th> <td>3.28e+15</td>\n",
              "</tr>\n",
              "</table><br/><br/>Notes:<br/>[1] Standard Errors assume that the covariance matrix of the errors is correctly specified.<br/>[2] The smallest eigenvalue is 5.84e-21. This might indicate that there are<br/>strong multicollinearity problems or that the design matrix is singular."
            ]
          },
          "metadata": {},
          "execution_count": 17
        }
      ]
    },
    {
      "cell_type": "markdown",
      "source": [
        "##**Bibliografía**\n",
        "* Hastie, T., Tibshirani, R., & Friedman, J. (2009). The elements of statistical learning: data mining, inference, and prediction. Springer Science & Business Media.\n",
        "* James, G., Witten, D., Hastie, T., & Tibshirani, R. (2013). An introduction to statistical learning (Vol. 112). New York: springer.\n",
        "* Murphy, K. P. (2012). Machine learning: a probabilistic perspective. MIT press.\n",
        "* Bishop, C. M. (2006). Pattern recognition and machine learning (Vol. 1, No. 10). springer.\n",
        "* Gelman, A., & Hill, J. (2007). Data analysis using regression and multilevel/hierarchical models. Cambridge university press.\n",
        "* Shalev-Shwartz, S., & Ben-David, S. (2014). Understanding machine learning: From theory to algorithms. Springer Science & Business Media."
      ],
      "metadata": {
        "id": "qzJZ5CVvbaoL"
      }
    }
  ]
}